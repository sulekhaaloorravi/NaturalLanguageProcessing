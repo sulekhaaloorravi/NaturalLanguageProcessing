{
 "cells": [
  {
   "cell_type": "markdown",
   "metadata": {},
   "source": [
    "<html>\n",
    "<font size = 6 color = Red align = center>\n",
    "Natural Language Processing - Banking Customer Reviews using Python<br/>\n",
    "</font>\n",
    "</html>"
   ]
  },
  {
   "cell_type": "markdown",
   "metadata": {},
   "source": [
    "<html>\n",
    "<font size = 4 color = blue>\n",
    "Author: Sulekha Aloorravi\n",
    "</font>\n",
    "</html>"
   ]
  },
  {
   "cell_type": "markdown",
   "metadata": {},
   "source": [
    "### Load the reviews in the form of HTML files"
   ]
  },
  {
   "cell_type": "code",
   "execution_count": 1,
   "metadata": {
    "collapsed": true
   },
   "outputs": [],
   "source": [
    "import glob"
   ]
  },
  {
   "cell_type": "code",
   "execution_count": 2,
   "metadata": {
    "collapsed": true
   },
   "outputs": [],
   "source": [
    "html_files = glob.glob(r\".\\BankBazaarData\\*.html\")"
   ]
  },
  {
   "cell_type": "code",
   "execution_count": 3,
   "metadata": {
    "collapsed": true
   },
   "outputs": [],
   "source": [
    "import codecs"
   ]
  },
  {
   "cell_type": "code",
   "execution_count": 4,
   "metadata": {},
   "outputs": [],
   "source": [
    "S = \" \"\n",
    "html_array = []\n",
    "for file in html_files:\n",
    "    f = codecs.open(file, 'r')\n",
    "    html_array.append(f.read())"
   ]
  },
  {
   "cell_type": "code",
   "execution_count": 5,
   "metadata": {
    "collapsed": true
   },
   "outputs": [],
   "source": [
    "html = S.join(html_array)"
   ]
  },
  {
   "cell_type": "code",
   "execution_count": 6,
   "metadata": {},
   "outputs": [
    {
     "data": {
      "text/plain": [
       "996"
      ]
     },
     "execution_count": 6,
     "metadata": {},
     "output_type": "execute_result"
    }
   ],
   "source": [
    "html.count(\"ellipsis_text\")"
   ]
  },
  {
   "cell_type": "markdown",
   "metadata": {},
   "source": [
    "### Parse them using BeautifulSoup"
   ]
  },
  {
   "cell_type": "code",
   "execution_count": 7,
   "metadata": {
    "collapsed": true
   },
   "outputs": [],
   "source": [
    "from bs4 import BeautifulSoup"
   ]
  },
  {
   "cell_type": "code",
   "execution_count": 8,
   "metadata": {},
   "outputs": [],
   "source": [
    "parsed_html = BeautifulSoup(html,\"html.parser\")"
   ]
  },
  {
   "cell_type": "code",
   "execution_count": 9,
   "metadata": {
    "collapsed": true
   },
   "outputs": [],
   "source": [
    "reviews = parsed_html.find_all('span', attrs = {'class': \"ellipsis_text\", 'itemprop': \"description\"})"
   ]
  },
  {
   "cell_type": "code",
   "execution_count": 10,
   "metadata": {
    "collapsed": true
   },
   "outputs": [],
   "source": [
    "ratings = parsed_html.find_all('span', attrs = {'itemprop': \"ratingvalue\"})"
   ]
  },
  {
   "cell_type": "code",
   "execution_count": 11,
   "metadata": {
    "collapsed": true
   },
   "outputs": [],
   "source": [
    "import re"
   ]
  },
  {
   "cell_type": "code",
   "execution_count": 12,
   "metadata": {
    "collapsed": true
   },
   "outputs": [],
   "source": [
    "def cleanhtml(raw_html):\n",
    "    clean = re.compile('<.*?>')\n",
    "    cleantext = re.sub(clean, '', raw_html)\n",
    "    return cleantext"
   ]
  },
  {
   "cell_type": "code",
   "execution_count": 13,
   "metadata": {
    "collapsed": true
   },
   "outputs": [],
   "source": [
    "rates = []\n",
    "for i in range(0,len(ratings)):\n",
    "    rates.append(cleanhtml(ratings[i].text))"
   ]
  },
  {
   "cell_type": "code",
   "execution_count": 14,
   "metadata": {
    "collapsed": true
   },
   "outputs": [],
   "source": [
    "revws = []\n",
    "for i in range(0,len(reviews)):\n",
    "    revws.append(cleanhtml(reviews[i].text))"
   ]
  },
  {
   "cell_type": "markdown",
   "metadata": {},
   "source": [
    "### Convert the data into dataframe"
   ]
  },
  {
   "cell_type": "code",
   "execution_count": 15,
   "metadata": {
    "collapsed": true
   },
   "outputs": [],
   "source": [
    "import pandas as pd"
   ]
  },
  {
   "cell_type": "code",
   "execution_count": 16,
   "metadata": {},
   "outputs": [],
   "source": [
    "Reviews = pd.DataFrame({'Reviews': revws, 'Ratings': rates})"
   ]
  },
  {
   "cell_type": "code",
   "execution_count": 17,
   "metadata": {
    "collapsed": true
   },
   "outputs": [],
   "source": [
    "Reviews = Reviews.replace({r'\\s+$': '', r'^\\s+': ''}, regex = True).replace(r'\\n', ' ', regex = True)"
   ]
  },
  {
   "cell_type": "code",
   "execution_count": 18,
   "metadata": {
    "collapsed": true
   },
   "outputs": [],
   "source": [
    "Reviews.drop_duplicates(inplace = True)"
   ]
  },
  {
   "cell_type": "code",
   "execution_count": 19,
   "metadata": {},
   "outputs": [
    {
     "data": {
      "text/plain": [
       "Ratings    992\n",
       "Reviews    992\n",
       "dtype: int64"
      ]
     },
     "execution_count": 19,
     "metadata": {},
     "output_type": "execute_result"
    }
   ],
   "source": [
    "Reviews.count()"
   ]
  },
  {
   "cell_type": "code",
   "execution_count": 20,
   "metadata": {},
   "outputs": [
    {
     "data": {
      "text/html": [
       "<div>\n",
       "<style>\n",
       "    .dataframe thead tr:only-child th {\n",
       "        text-align: right;\n",
       "    }\n",
       "\n",
       "    .dataframe thead th {\n",
       "        text-align: left;\n",
       "    }\n",
       "\n",
       "    .dataframe tbody tr th {\n",
       "        vertical-align: top;\n",
       "    }\n",
       "</style>\n",
       "<table border=\"1\" class=\"dataframe\">\n",
       "  <thead>\n",
       "    <tr style=\"text-align: right;\">\n",
       "      <th></th>\n",
       "      <th>Ratings</th>\n",
       "      <th>Reviews</th>\n",
       "    </tr>\n",
       "  </thead>\n",
       "  <tbody>\n",
       "    <tr>\n",
       "      <th>0</th>\n",
       "      <td>5.0</td>\n",
       "      <td>I have been using BANK BAZAAR services for a w...</td>\n",
       "    </tr>\n",
       "    <tr>\n",
       "      <th>1</th>\n",
       "      <td>3.0</td>\n",
       "      <td>I have taken personal loan from CASHE , my exp...</td>\n",
       "    </tr>\n",
       "    <tr>\n",
       "      <th>2</th>\n",
       "      <td>4.0</td>\n",
       "      <td>For the first time i have taken financial prod...</td>\n",
       "    </tr>\n",
       "    <tr>\n",
       "      <th>3</th>\n",
       "      <td>4.0</td>\n",
       "      <td>My personal loan was taken with HDFC BANK , th...</td>\n",
       "    </tr>\n",
       "    <tr>\n",
       "      <th>4</th>\n",
       "      <td>4.0</td>\n",
       "      <td>I have taken a personal loan from the HDFC ban...</td>\n",
       "    </tr>\n",
       "  </tbody>\n",
       "</table>\n",
       "</div>"
      ],
      "text/plain": [
       "  Ratings                                            Reviews\n",
       "0     5.0  I have been using BANK BAZAAR services for a w...\n",
       "1     3.0  I have taken personal loan from CASHE , my exp...\n",
       "2     4.0  For the first time i have taken financial prod...\n",
       "3     4.0  My personal loan was taken with HDFC BANK , th...\n",
       "4     4.0  I have taken a personal loan from the HDFC ban..."
      ]
     },
     "execution_count": 20,
     "metadata": {},
     "output_type": "execute_result"
    }
   ],
   "source": [
    "Reviews.head(5)"
   ]
  },
  {
   "cell_type": "code",
   "execution_count": 21,
   "metadata": {},
   "outputs": [
    {
     "data": {
      "text/plain": [
       "Ratings    object\n",
       "Reviews    object\n",
       "dtype: object"
      ]
     },
     "execution_count": 21,
     "metadata": {},
     "output_type": "execute_result"
    }
   ],
   "source": [
    "Reviews.dtypes"
   ]
  },
  {
   "cell_type": "code",
   "execution_count": 22,
   "metadata": {
    "collapsed": true
   },
   "outputs": [],
   "source": [
    "Reviews['Ratings'] = Reviews['Ratings'].astype(float)"
   ]
  },
  {
   "cell_type": "code",
   "execution_count": 23,
   "metadata": {},
   "outputs": [
    {
     "data": {
      "text/plain": [
       "Ratings    float64\n",
       "Reviews     object\n",
       "dtype: object"
      ]
     },
     "execution_count": 23,
     "metadata": {},
     "output_type": "execute_result"
    }
   ],
   "source": [
    "Reviews.dtypes"
   ]
  },
  {
   "cell_type": "markdown",
   "metadata": {},
   "source": [
    "### Calculate sentiment"
   ]
  },
  {
   "cell_type": "code",
   "execution_count": 24,
   "metadata": {},
   "outputs": [],
   "source": [
    "def calculate_sentiment(reviews):\n",
    "    if reviews['Ratings'] < 4.0:\n",
    "        return 0   #Negative\n",
    "    else:\n",
    "        return 1   #Positive"
   ]
  },
  {
   "cell_type": "code",
   "execution_count": 25,
   "metadata": {},
   "outputs": [],
   "source": [
    "Reviews[\"Sentiment\"] = Reviews.apply(calculate_sentiment, axis=1)"
   ]
  },
  {
   "cell_type": "code",
   "execution_count": 26,
   "metadata": {
    "collapsed": true
   },
   "outputs": [],
   "source": [
    "Reviews.to_csv(\"BankReviews.csv\")"
   ]
  },
  {
   "cell_type": "markdown",
   "metadata": {},
   "source": [
    "### Save data in the form of csv"
   ]
  },
  {
   "cell_type": "markdown",
   "metadata": {},
   "source": [
    "### Let us store Reviews and Sentiments as arrays since it would be more suitable to do further processing and feature extraction"
   ]
  },
  {
   "cell_type": "code",
   "execution_count": 27,
   "metadata": {
    "collapsed": true
   },
   "outputs": [],
   "source": [
    "text, y = Reviews.Reviews, Reviews.Sentiment"
   ]
  },
  {
   "cell_type": "markdown",
   "metadata": {},
   "source": [
    "### Split the data into train and test at a ratio of 70:30"
   ]
  },
  {
   "cell_type": "code",
   "execution_count": 28,
   "metadata": {
    "collapsed": true
   },
   "outputs": [],
   "source": [
    "from sklearn.model_selection import train_test_split"
   ]
  },
  {
   "cell_type": "code",
   "execution_count": 29,
   "metadata": {},
   "outputs": [],
   "source": [
    "text_train, text_test, y_train, y_test = train_test_split(text, y, test_size=0.33, random_state=42)"
   ]
  },
  {
   "cell_type": "markdown",
   "metadata": {},
   "source": [
    "### Explore train and test data"
   ]
  },
  {
   "cell_type": "code",
   "execution_count": 30,
   "metadata": {
    "collapsed": true
   },
   "outputs": [],
   "source": [
    "import numpy as np"
   ]
  },
  {
   "cell_type": "code",
   "execution_count": 31,
   "metadata": {},
   "outputs": [
    {
     "data": {
      "text/plain": [
       "array([0, 1], dtype=int64)"
      ]
     },
     "execution_count": 31,
     "metadata": {},
     "output_type": "execute_result"
    }
   ],
   "source": [
    "np.unique(y_train)"
   ]
  },
  {
   "cell_type": "code",
   "execution_count": 32,
   "metadata": {},
   "outputs": [
    {
     "data": {
      "text/plain": [
       "array([0, 1], dtype=int64)"
      ]
     },
     "execution_count": 32,
     "metadata": {},
     "output_type": "execute_result"
    }
   ],
   "source": [
    "np.unique(y_test)"
   ]
  },
  {
   "cell_type": "code",
   "execution_count": 33,
   "metadata": {},
   "outputs": [
    {
     "name": "stdout",
     "output_type": "stream",
     "text": [
      "Samples per Sentiment (training): [136 528]\n"
     ]
    }
   ],
   "source": [
    "print(\"Samples per Sentiment (training): {}\".format(np.bincount(y_train)))"
   ]
  },
  {
   "cell_type": "code",
   "execution_count": 34,
   "metadata": {},
   "outputs": [
    {
     "name": "stdout",
     "output_type": "stream",
     "text": [
      "Samples per Sentiment (testing): [ 68 260]\n"
     ]
    }
   ],
   "source": [
    "print(\"Samples per Sentiment (testing): {}\".format(np.bincount(y_test)))"
   ]
  },
  {
   "cell_type": "markdown",
   "metadata": {},
   "source": [
    "### Feature Extraction"
   ]
  },
  {
   "cell_type": "markdown",
   "metadata": {},
   "source": [
    "<html>\n",
    "<font size = 4>\n",
    "<b> Rescaling the Data with tf-idf </b> <br /></font>\n",
    "<font>\n",
    "One of the approaches to extract features from test is to\n",
    "rescale features by how informative we expect them to be. One of the most common\n",
    "ways to do this is using the term frequency–inverse document frequency (tf-idf)\n",
    "method. Let us create a function for the same.\n",
    "</font>\n",
    "</html> \n",
    "\\begin{equation*}\n",
    "\\text{tfidf}(w, d) = \\text{tf} \\log\\big(\\frac{N + 1}{N_w + 1}\\big) + 1\n",
    "\\end{equation*}"
   ]
  },
  {
   "cell_type": "code",
   "execution_count": 35,
   "metadata": {
    "collapsed": true
   },
   "outputs": [],
   "source": [
    "from sklearn.feature_extraction.text import TfidfVectorizer"
   ]
  },
  {
   "cell_type": "code",
   "execution_count": 36,
   "metadata": {
    "collapsed": true
   },
   "outputs": [],
   "source": [
    "def tfidf_extractor(corpus, ngram_range=(1,1)):    \n",
    "    vectorizer = TfidfVectorizer(min_df=1, \n",
    "                                 norm='l2',\n",
    "                                 smooth_idf=True,\n",
    "                                 use_idf=True,\n",
    "                                 ngram_range=ngram_range)\n",
    "    features = vectorizer.fit_transform(corpus)\n",
    "    return vectorizer, features"
   ]
  },
  {
   "cell_type": "code",
   "execution_count": 37,
   "metadata": {},
   "outputs": [],
   "source": [
    "tfidf_vectorizer, tfidf_train_features = tfidf_extractor(text_train)  \n",
    "tfidf_test_features = tfidf_vectorizer.transform(text_test) "
   ]
  },
  {
   "cell_type": "code",
   "execution_count": 38,
   "metadata": {
    "collapsed": true
   },
   "outputs": [],
   "source": [
    "from sklearn import metrics"
   ]
  },
  {
   "cell_type": "code",
   "execution_count": 39,
   "metadata": {
    "collapsed": true
   },
   "outputs": [],
   "source": [
    "def get_metrics(true_labels, predicted_labels):\n",
    "    print ('Accuracy:', np.round(metrics.accuracy_score(true_labels,predicted_labels),2))\n",
    "    print ('Precision:', np.round(metrics.precision_score(true_labels,predicted_labels,average='weighted'),2))\n",
    "    print ('Recall:', np.round(metrics.recall_score(true_labels, predicted_labels,average='weighted'),2))\n",
    "    print ('F1 Score:', np.round(metrics.f1_score(true_labels, predicted_labels,average='weighted'),2)) "
   ]
  },
  {
   "cell_type": "code",
   "execution_count": 40,
   "metadata": {
    "collapsed": true
   },
   "outputs": [],
   "source": [
    "def train_predict_evaluate_model(classifier,train_features, train_labels, test_features, test_labels):\n",
    "    # build model    \n",
    "    classifier.fit(train_features, train_labels)\n",
    "    # predict using model\n",
    "    predictions = classifier.predict(test_features) \n",
    "    # evaluate model prediction performance   \n",
    "    get_metrics(true_labels=test_labels, \n",
    "                predicted_labels=predictions)\n",
    "    return predictions "
   ]
  },
  {
   "cell_type": "markdown",
   "metadata": {},
   "source": [
    "### Multinomial Naive Bayes with tfidf features   "
   ]
  },
  {
   "cell_type": "code",
   "execution_count": 41,
   "metadata": {
    "collapsed": true
   },
   "outputs": [],
   "source": [
    "from sklearn.naive_bayes import MultinomialNB"
   ]
  },
  {
   "cell_type": "code",
   "execution_count": 42,
   "metadata": {
    "collapsed": true
   },
   "outputs": [],
   "source": [
    "mnb_best = MultinomialNB(alpha = 0.001,fit_prior = True)"
   ]
  },
  {
   "cell_type": "code",
   "execution_count": 43,
   "metadata": {},
   "outputs": [
    {
     "name": "stdout",
     "output_type": "stream",
     "text": [
      "Accuracy: 0.78\n",
      "Precision: 0.73\n",
      "Recall: 0.78\n",
      "F1 Score: 0.74\n"
     ]
    }
   ],
   "source": [
    "mnb_tfidf_predictions = train_predict_evaluate_model(classifier=mnb_best,\n",
    "                                           train_features=tfidf_train_features,\n",
    "                                           train_labels=y_train,\n",
    "                                           test_features=tfidf_test_features,\n",
    "                                           test_labels=y_test)"
   ]
  },
  {
   "cell_type": "markdown",
   "metadata": {},
   "source": [
    "### Confusion Matrix"
   ]
  },
  {
   "cell_type": "code",
   "execution_count": 44,
   "metadata": {},
   "outputs": [
    {
     "data": {
      "text/html": [
       "<div>\n",
       "<style>\n",
       "    .dataframe thead tr:only-child th {\n",
       "        text-align: right;\n",
       "    }\n",
       "\n",
       "    .dataframe thead th {\n",
       "        text-align: left;\n",
       "    }\n",
       "\n",
       "    .dataframe tbody tr th {\n",
       "        vertical-align: top;\n",
       "    }\n",
       "</style>\n",
       "<table border=\"1\" class=\"dataframe\">\n",
       "  <thead>\n",
       "    <tr style=\"text-align: right;\">\n",
       "      <th></th>\n",
       "      <th>0</th>\n",
       "      <th>1</th>\n",
       "    </tr>\n",
       "  </thead>\n",
       "  <tbody>\n",
       "    <tr>\n",
       "      <th>0</th>\n",
       "      <td>12</td>\n",
       "      <td>56</td>\n",
       "    </tr>\n",
       "    <tr>\n",
       "      <th>1</th>\n",
       "      <td>16</td>\n",
       "      <td>244</td>\n",
       "    </tr>\n",
       "  </tbody>\n",
       "</table>\n",
       "</div>"
      ],
      "text/plain": [
       "    0    1\n",
       "0  12   56\n",
       "1  16  244"
      ]
     },
     "execution_count": 44,
     "metadata": {},
     "output_type": "execute_result"
    }
   ],
   "source": [
    "cm = metrics.confusion_matrix(y_test, mnb_tfidf_predictions)\n",
    "pd.DataFrame(cm, index=range(0,2), columns=range(0,2))"
   ]
  },
  {
   "cell_type": "markdown",
   "metadata": {},
   "source": [
    "### Incorrect Predictions"
   ]
  },
  {
   "cell_type": "code",
   "execution_count": 45,
   "metadata": {},
   "outputs": [
    {
     "name": "stdout",
     "output_type": "stream",
     "text": [
      "*******[0 - Negative, 1 - Positive]*******\n",
      "Actual Label: 0\n",
      "Predicted Label: 1\n",
      "Review: My personal loan was taken with FULLERTON .The process was very good but their processing fee was very high.The loan amount was 1,54,000 and the interest rate was satisfactory .The tenure period was 5 years. I had a smooth and hassle  free\n",
      "Actual Label: 0\n",
      "Predicted Label: 1\n",
      "Review: My personal loan was taken with HDFC Bank 4 years back. The loan amount was 1.9 lakhs  and the interest rate was very high . The tenure   period was 4 years . I had a good experience  and i had a very smooth process also. Their processing fee was also too high.My overall experience was good.\n",
      "Actual Label: 0\n",
      "Predicted Label: 1\n",
      "Review: My personal loan was taken with FULLERTON 1 month back.The loan amount was 10 lakhs  and the interest rate was very high. Te tenure period was 5 years. The process was quite good and excellent . I haven't faced any issues and the documentation  was smooth but  The processing  fee was high.\n",
      "Actual Label: 0\n",
      "Predicted Label: 1\n",
      "Review: We can say it as average . product and documentation was everything easy , i feel like the rate of interest is also average, customer service part is good, there was a insurance of 15 thousand and then i spoke with bank people to reduce it then they have reduced it and rate of interest.\n",
      "Actual Label: 0\n",
      "Predicted Label: 1\n",
      "Review: My personal loan was taken with KOTAK BANK 1 year back.The loan amount was 1  lakh  . The customer  service and responses was very nice The tenure  period was 5 years here. The documentation process was good but  after 15-20 days only the loan was disbursed.\n",
      "Actual Label: 0\n",
      "Predicted Label: 1\n",
      "Review: It is okay to loan get rejected. There should be some problem in my side. For that they did not given any call from Kotak. I did not received the message like loan application number and details of the loan. I'm still looking for the loan of 2 lakhs. It\n",
      "Actual Label: 0\n",
      "Predicted Label: 1\n",
      "Review: I have  taken my loan  with BANK BAZAAR. The service  and responses was very good. I have applied through the website which is very good and  satisfactory  . The web portal's  accuracy and speed is good so I would like to recommend to others. My overall experience  was good.\n",
      "Actual Label: 0\n",
      "Predicted Label: 1\n",
      "Review: My personal loan was taken with HDFC bank 1 month back. The loan amount was 5 lakhs  and the interest rate was satisfactory . The tenure period was 5 years . The process was good and the documentation was very simple .I  have applied\n",
      "Actual Label: 0\n",
      "Predicted Label: 1\n",
      "Review: I have taken a personal loan from Kotak Mahindra bank and my experience was average, initially there was no proper communication from the customer support team and there was no response. The process took 1 month to complete and the loan\n",
      "Actual Label: 0\n",
      "Predicted Label: 1\n",
      "Review: My personal loan was taken with CASHE recently. I had a very nice loan experience here . The loan amount was 30,000 and the interest rate was also average . The tenure period was 3 months . I had a  very quick process and there is no inconvenience\n",
      "Actual Label: 0\n",
      "Predicted Label: 1\n",
      "Review: BANK BAZAAR is a good platform for all the financial products., The customer service ad responses was very  good. I use the website which is very user friendly  and easy to navigate . The web portal's accuracy and speed is good so I would like to recommend to others.\n",
      "Actual Label: 0\n",
      "Predicted Label: 1\n",
      "Review: I have a personal loan with Citibank. The process of documentation is good. It was taken from me on time. I also got the promised rate of interest. They informed me a rate of 10.49% and I got the same. The only drawback is the ECS transaction. It does\n",
      "Actual Label: 0\n",
      "Predicted Label: 1\n",
      "Review: My personal loan was taken with HDFC bank 9 months back. I have takne 2.5 lakhs  and the interest rate was quite high. The EMI period was 4 years . I had a good process and there is no inconvenience faced. The documentation was very\n",
      "Actual Label: 1\n",
      "Predicted Label: 0\n",
      "Review: I took a personal loan from the HDFC Rs. 3.6 Lacs for 5 years. It was amazing, I applied directly but rejected the application. When I applied online I got the loan amount with in 5 days. The interest rate is normal when comparing with the other banks\n",
      "Actual Label: 1\n",
      "Predicted Label: 0\n",
      "Review: I took a personal loan from the HDFC bank for 2.5 lacs, it was a good experience, the interest was lower. I got the loan amount2-3 days. There were some issues with the address verification. Overall it has been a very good experience in taking a personal from the HDFC bank.\n",
      "Actual Label: 0\n",
      "Predicted Label: 1\n",
      "Review: BANK BAZAAR is a good platform for all the financial products. The service and responsiveness was really good. Its  a  really fast and good process .I didn't receive my gift voucher still and i have even raised a complaint and I am waiting for it..I had very good  experience wit the webportal also.\n",
      "Actual Label: 0\n",
      "Predicted Label: 1\n",
      "Review: My personal  loan was taken with ICICI bank.I have to do proper followup's and  the service was not up to the mark.  I have been told that the loan was approved but they didn't disbursed  the amount . I was looking  for 80,000 and the interest  rate was satisfactory .\n",
      "Actual Label: 0\n",
      "Predicted Label: 1\n",
      "Review: I have taken loan with KOTAK BANK and my loan experience was good. My loan amount is 100000 and interest rate is 16.5%  and it is satisfactory. I use to pay 9000 as EMI per month and tenure period is 6month. But i am not satisfied with\n",
      "Actual Label: 1\n",
      "Predicted Label: 0\n",
      "Review: I have taken a  personal loan from Central bank of india previously. I am very much satisfied with the rate of interest which is 11% , they gave tenure period of 4 years and but i did pre closure before tenure period the pre closure charges are nominal\n",
      "Actual Label: 0\n",
      "Predicted Label: 1\n",
      "Review: It has been a very good experience in getting this Personal Loan and the loan amount which they ha provided had been satisfactory. The interest rate has been good when compared with the market rate. Their staff has been prompt and had been\n",
      "Actual Label: 0\n",
      "Predicted Label: 1\n",
      "Review: I had taken this loan a very long time back and it had been closed in the year of 2016, the process in getting the loan had been good and the loan amount which they had provided had been satisfactory. The interest rate with them also had\n",
      "Actual Label: 0\n",
      "Predicted Label: 1\n",
      "Review: I have take personal loan from the Kotak mahindra bank bank  which they approved in quickly and the amount is reflected in next day ,its instant approve process. As am not  satisfied with the rate of interest which is too high  . They provided the\n",
      "Actual Label: 0\n",
      "Predicted Label: 1\n",
      "Review: I have taken a personal loan from Bajaj Finserv and the experience was good, the loan amount was for Rs 1.25 lakhs with nominal interest rate when compared to others. Customer service was good and they responded on time. The tenure period for this loan is for 3 years.\n",
      "Actual Label: 0\n",
      "Predicted Label: 1\n",
      "Review: My personal loan was taken with TATA CAPITAL .The process was good and  it was disappointed. The  process was delayed and  it took 3 weeks for disbursing itself. I had a bad experience and executives were very careless. The customer\n",
      "Actual Label: 0\n",
      "Predicted Label: 1\n",
      "Review: I have taken my credit card wit EARLY SALARY . The loan amount was 10,000  but the given interest rate was very high . The tenure period was 1 month. The service and responses was goo but the processing fee is quite high. I had a good documentation process also.\n",
      "Actual Label: 1\n",
      "Predicted Label: 0\n",
      "Review: I've taken a personal loan ICICI bank. They had verification charges 3 times, totally they charged me 360 rupees, other than that it has been a good experience. They processed the loan quickly. The interest rate was also comparatively fine.\n",
      "Actual Label: 0\n",
      "Predicted Label: 1\n",
      "Review: As per the experience it had not been bad with Bank Bazaar so far, they had made the process simple. I could able to compare the products which we can chose from and that is the best thing about them. They had shared with me a customer care\n",
      "Actual Label: 0\n",
      "Predicted Label: 1\n",
      "Review: My experience was really good with BANK BAZAAR. Their service  and responses was excellent . I have not faced any issues here so its recommendable  . I used their mobile application which is very good and easy to understand too.The\n",
      "Actual Label: 1\n",
      "Predicted Label: 0\n",
      "Review: My personal loan was taken with HDFC BANK and my tenure period is 48month . Initially they said the rate of interest is 10.5% but later they charge 14% which is too high in the market . There is no processing fee and even there is no preclosere\n",
      "Actual Label: 0\n",
      "Predicted Label: 1\n",
      "Review: My personal loan experience was good with HDFC bank, the loan amount was for Rs 2 lakhs with 13% interest rate which is nominal rate. The process was quick and the loan amount was disbursed on time. 2% charges are applicable for preclosure of the loan and the tenure period is 3 years.\n",
      "Actual Label: 1\n",
      "Predicted Label: 0\n",
      "Review: I've taken a personal loan from the Kotak Mahindra Bank for 80000. They offered a best interest rate of 12.5% and there were no unwanted charges as well. It was a hassle free loan experience with the card their services.\n",
      "Actual Label: 0\n",
      "Predicted Label: 1\n",
      "Review: I have applied for the personal loan from ICICI bank, my loan application was closed because there was no proper response from the customer service of ICICI bank. They collected documents but after that there was no follow up done. The rate of interest was little high when compared to others.\n",
      "Actual Label: 0\n",
      "Predicted Label: 1\n",
      "Review: I've taken a personal loan from the HDFC bank online. It took almost 10 days to receive the loan amount to the account. The interest rate was also normal. They need to process the loan application much more quickly.\n",
      "Actual Label: 0\n",
      "Predicted Label: 1\n",
      "Review: I have taken a personal for  3 Lacs from the SBI, the experience wasn't good, there were  too many formalities and it was also time consuming. They need to ensure a timely approval and processing when it comes to personal loan.\n",
      "Actual Label: 0\n",
      "Predicted Label: 1\n",
      "Review: It was an average experience with Early salary for personal loan , the process took 2-3 days to complete. Customer service was not up to the mark with Early salary and their response was not on time. The loan amount was sufficient and the\n",
      "Actual Label: 1\n",
      "Predicted Label: 0\n",
      "Review: My loan amount was taken with TATA CAPITAL , i am not happy with the services at the time of documentation it was little tough , and while disbursement of time they said rate of nominal rate of interest but later they charge 13.5% which is too\n",
      "Actual Label: 0\n",
      "Predicted Label: 1\n",
      "Review: I have taken a personal loan with HDFC bank and my experience was average, the loan amount was for Rs4.8 lakhs with rate of interest of 14% which is nominal rate. The process was smooth and i received my loan amount on time. Customer\n",
      "Actual Label: 0\n",
      "Predicted Label: 1\n",
      "Review: It has been a very good experience with this loan, there has been some charges of 16% and the process in getting this loan had been easy and simple. The loan amount which they had provided had been satisfactory and there has not been any processing fee which they had been charging.\n",
      "Actual Label: 0\n",
      "Predicted Label: 1\n",
      "Review: My persona loan was taken with HDFC Bank. I had a very bad process here and they have taken  2 weeks of time for processing itself. I have taken 5 lakhs  and the interest rate was satisfactory . The tenure   period was 60 months.  The customer\n",
      "Actual Label: 0\n",
      "Predicted Label: 1\n",
      "Review: The experience is good with Fullerton. I have taken a personal loan and I received the loan in 48hours. They also cooperated very well. The documents was taken on time. The rate of interest is pretty high, it is around 20.5% and through I do not know\n",
      "Actual Label: 1\n",
      "Predicted Label: 0\n",
      "Review: I have taken loan with STANDARD CHARTED BANK 2years back and my loan experience was good. Loan amount which they offered is very satisfactory and interest rate is 11.45% and it is nominal in the market. Tenure period is 2years. The\n",
      "Actual Label: 0\n",
      "Predicted Label: 1\n",
      "Review: My personal loan experience was not up to the mark with HDB financial services, customer service was not up to the mark and there was no proper response. I was not able to track how much EMI i have to pay for the month and the rate of interest is way high when compared to others.\n",
      "Actual Label: 0\n",
      "Predicted Label: 1\n",
      "Review: I am using the services of bankbazaar from last 1.5 months, the services provided by bankbazar is average when compared to others. Customer service was good with bankbazaar and they responded on time.\n",
      "Actual Label: 0\n",
      "Predicted Label: 1\n",
      "Review: I have taken a personal loan from the Axis bank for 7 lacs, the interest rate was high. I got the loan amount with in 4 days, The interest rate was comparatively high. The whole application process was easy and hassle free. I got the loan amount in time.\n",
      "Actual Label: 0\n",
      "Predicted Label: 1\n",
      "Review: Mobile application and website is very easy to use with BANK BAZAAR . I am using this website from past 6month . The process and services was very quick and smooth with bank bazaar . I came to know about this website through online .\n",
      "Actual Label: 1\n",
      "Predicted Label: 0\n",
      "Review: I have taken  personal loan with EARLY SERVICE . The process was very  good this time but when  Initially they 2-3 times they did not process my application which is disappointing .I have taken 10,000 and the interest rate was also good and the\n",
      "Actual Label: 0\n",
      "Predicted Label: 1\n",
      "Review: I have taken my personal  loan with CITI bank 10 years back. I have a faced a major issues with EMI deductions and i have even raised a complaint also then the step was taken but i have went through a lot of issues due to that . My Credit score was also\n",
      "Actual Label: 1\n",
      "Predicted Label: 0\n",
      "Review: I've taken a personal loan from the Bajaj Finserv for 5 Lacs. Their Flexipay service is really useful. In case if you do not need the full amount you can keep the amount in reserve and the interest is applicable for the only amount you take which is\n",
      "Actual Label: 1\n",
      "Predicted Label: 0\n",
      "Review: Documentation and processing was easy which i felt, i got the loan value on time, customer service from the citi bank was explanatory, about the rate if interest which is between the nominal and the high, its a 4 years loan, with auto debit payments.\n",
      "Actual Label: 0\n",
      "Predicted Label: 1\n",
      "Review: I took a  Personal Loan for Rs. 1Lacs From the Tata Capital for 3 years. It was not a good experience.  The customer support is not responding. The interests is too high. There were no additional charges. I am not at all happy with the personal loan experience with the Tat Capital.\n",
      "Actual Label: 1\n",
      "Predicted Label: 0\n",
      "Review: My personal loan experience was good with AXIS bank, the loan amount was for Rs 2 lacs with nominal interest rate when compared to other banks. There are no additional charges for preclosure. Customer service was good with AXIS bank and the tenure period is 3 years.\n",
      "Actual Label: 0\n",
      "Predicted Label: 1\n",
      "Review: I have taken my personal loan with TATA CAPITAL recently. The  interest rate was good and the tenure    period  was 3 years . I have take 3 lakhs  loan amount  .The service and responses was up to the mark. There is  no delay in the process  here.The processing fee was  bit high\n",
      "Actual Label: 0\n",
      "Predicted Label: 1\n",
      "Review: The experience and process is fine with ICICI Bank. After me applying, the documents were collected within three days, after which I got the personal loan in ten days and the loan is as needed. They initially offered me a higher interest rate of 18%\n",
      "Actual Label: 0\n",
      "Predicted Label: 1\n",
      "Review: It has been one of the best experience with this personal loan. The process in getting this loan had been good but the loan amount had been less. The interest rate with them had been nominal when compared with the market rate. Their customer support also had been good as well.\n",
      "Actual Label: 1\n",
      "Predicted Label: 0\n",
      "Review: They are good, it was outstanding experience with them, they supported me well, also they made regular follow ups, quick in response from them, they can also obtain the option of calling them back, if we missed to attend the call  when they calling,.\n",
      "Actual Label: 0\n",
      "Predicted Label: 1\n",
      "Review: They rejected the personal loan and the reason being components of salary. they are not charging for provident fund. I have applied the loan amount of 7 lakhs and now I'm not interested to take that loan anymore. I never called their customer care\n",
      "Actual Label: 1\n",
      "Predicted Label: 0\n",
      "Review: I have got the flood loan with this bank, with low interest rates, the loan value is 1  lakh ,its taken for 3 years tenure, only 3-4 EMIs are pending, processing was easy and i got it within a week of time so the process was quick as we were in urgency.\n",
      "Actual Label: 0\n",
      "Predicted Label: 1\n",
      "Review: I've been using the BankBazaar platform for a while. It was good, the customer support was also good. BankBazaar is a convenient platform for applying for loan with out any hassle. The website is simple and easy to use.\n",
      "Actual Label: 1\n",
      "Predicted Label: 0\n",
      "Review: My personal loan was taken with HDB FINANCE. The process was very nice but it took a longer time here. The interest rate was  on a higher side . The tenure  period  was 5 years . The customer  service and responses was good. They were calling up for\n",
      "Actual Label: 0\n",
      "Predicted Label: 1\n",
      "Review: It was a good experience with Kotak Mahindra bank for personal loan, the loan amount was for Rs 3 lakhs with nominal interest rate in the market. The process was quite long and it took 15 days to receive the loan amount. Customer service was good and they followed up on time.\n",
      "Actual Label: 0\n",
      "Predicted Label: 1\n",
      "Review: It was an average experience with Standard Chartered Bank for personal loan, the process was quite long and it took 20-25 days to complete. Documents were collected on time and the customer service was good. The loan amount was for Rs 6 lakhs for 5 years with high interest rate.\n",
      "Actual Label: 0\n",
      "Predicted Label: 1\n",
      "Review: Mobile application is good with BANK BAZAAR , i am using this services from past 1 year . I came to know about this website through goggle when i am searching for credit card offers . Mainly i visit this website to check credit score .Customer service is satisfactory.\n",
      "Actual Label: 0\n",
      "Predicted Label: 1\n",
      "Review: I have taken personal loan from the State bank of India   which took around 1 week for approval and documentation . Am satisfied with the rate of interest 10.4% which they have provided . They charged Rs 8000 for processing fees  with the\n",
      "Actual Label: 0\n",
      "Predicted Label: 1\n",
      "Review: I have taken a personal loan with HDFC bank and my loan experience was good, the loan amount was for Rs 3 lakhs with 11.75% as interest rate which is nominal in market. They charge 2% for preclosure. Customer service was good with HDFC bank and the tenure period is 3 years.\n",
      "Actual Label: 0\n",
      "Predicted Label: 1\n",
      "Review: My only suggestion to the bank-bazaar is that it could be much better if they would have been making minimal calls for the new offers, about the bank-bazaar application and the website is user friendly and informative. Also i will suggest bank-bazaar to my friends and family.\n",
      "Actual Label: 0\n",
      "Predicted Label: 1\n",
      "Review: The process to get the personal loan with HDFC Bank is satisfactory. The customer services and response is good. The rate of interest is around 15.5% which is a very high rate when compared to the other banks. The processing charges are taken too.\n",
      "Actual Label: 1\n",
      "Predicted Label: 0\n",
      "Review: My Salary account had been with ICICI and that was the reason i had chosen to go with them. The process in getting this loan has been smooth and easy. But it has taken some more time than usual. The interest rate with them had been good where\n",
      "Actual Label: 0\n",
      "Predicted Label: 1\n",
      "Review: My personal loan application was approved with CASHE and the experience was good, the rate of interest and charges are high when compared to others. Customer service was not up to the mark. The tenure period for this loan is for 28 days.\n",
      "Actual Label: 0\n",
      "Predicted Label: 1\n",
      "Review: I have a personal loan with HDFC Bank. The customer support is good and this loan was few years ago. The process was good at that time and I am also okay with the rate of interest and the processing charges too. The process to get the loan is good and on time.\n",
      "Actual Label: 0\n",
      "Predicted Label: 1\n",
      "Review: My personal loan application was approved with ICICI bank and my experience was not good, the loan amount was for Rs 1 lac for 2 years with nominal interest rate when compared to other banks. The process was delayed by 4-5 days and the customer service was not up to the mark.\n",
      "Actual Label: 0\n",
      "Predicted Label: 1\n",
      "Review: Clarity about the product and the process from the bank end can be even more better, actually i feel like its required more information on their services as well. If they provide with more clarity it would be up to the mark, so its  an average service which i\n",
      "Actual Label: 0\n",
      "Predicted Label: 1\n",
      "Review: My personal loan is with IDFC Bank and it was a good experience. The process is good and the loan was provided to me on time and as needed. The rate of interest is around 11% and there was a processing fee plus insurance. The tenure is for five years.\n"
     ]
    }
   ],
   "source": [
    "print (\"*******[0 - Negative, 1 - Positive]*******\")\n",
    "for document, label, predicted_label in zip(text_test, y_test, mnb_tfidf_predictions):\n",
    "    for i in range(0,2):\n",
    "        if label == i and predicted_label != i:\n",
    "            print (\"Actual Label:\", +label)\n",
    "            print (\"Predicted Label:\", +predicted_label)\n",
    "            print (\"Review:\", re.sub('\\n', ' ', document))"
   ]
  }
 ],
 "metadata": {
  "kernelspec": {
   "display_name": "Python 3",
   "language": "python",
   "name": "python3"
  },
  "language_info": {
   "codemirror_mode": {
    "name": "ipython",
    "version": 3
   },
   "file_extension": ".py",
   "mimetype": "text/x-python",
   "name": "python",
   "nbconvert_exporter": "python",
   "pygments_lexer": "ipython3",
   "version": "3.6.3"
  }
 },
 "nbformat": 4,
 "nbformat_minor": 2
}
